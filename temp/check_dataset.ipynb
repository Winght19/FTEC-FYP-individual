{
 "cells": [
  {
   "cell_type": "code",
   "execution_count": 1,
   "id": "73498f5c",
   "metadata": {},
   "outputs": [
    {
     "data": {
      "application/vnd.jupyter.widget-view+json": {
       "model_id": "1fddf7f04fb94d9bbbbc0357ede514fe",
       "version_major": 2,
       "version_minor": 0
      },
      "text/plain": [
       "Resolving data files:   0%|          | 0/48 [00:00<?, ?it/s]"
      ]
     },
     "metadata": {},
     "output_type": "display_data"
    },
    {
     "data": {
      "application/vnd.jupyter.widget-view+json": {
       "model_id": "189e938e6b3049e7ab36111bb510049d",
       "version_major": 2,
       "version_minor": 0
      },
      "text/plain": [
       "Resolving data files:   0%|          | 0/48 [00:00<?, ?it/s]"
      ]
     },
     "metadata": {},
     "output_type": "display_data"
    },
    {
     "data": {
      "application/vnd.jupyter.widget-view+json": {
       "model_id": "9084e8aa2a394b198472121498145fa3",
       "version_major": 2,
       "version_minor": 0
      },
      "text/plain": [
       "Loading dataset shards:   0%|          | 0/48 [00:00<?, ?it/s]"
      ]
     },
     "metadata": {},
     "output_type": "display_data"
    }
   ],
   "source": [
    "from datasets import load_dataset\n",
    "\n",
    "ds = load_dataset(\"sabareesh88/FNSPID_nasdaq\")"
   ]
  },
  {
   "cell_type": "code",
   "execution_count": 2,
   "id": "d6ec8acd",
   "metadata": {},
   "outputs": [
    {
     "name": "stdout",
     "output_type": "stream",
     "text": [
      "DatasetDict({\n",
      "    train: Dataset({\n",
      "        features: ['Unnamed: 0', 'Date', 'Article_title', 'Stock_symbol', 'Url', 'Publisher', 'Author', 'Article', 'Lsa_summary', 'Luhn_summary', 'Textrank_summary', 'Lexrank_summary'],\n",
      "        num_rows: 15549299\n",
      "    })\n",
      "})\n"
     ]
    }
   ],
   "source": [
    "print(ds)"
   ]
  },
  {
   "cell_type": "code",
   "execution_count": 3,
   "id": "522124d6",
   "metadata": {},
   "outputs": [
    {
     "name": "stdout",
     "output_type": "stream",
     "text": [
      "Number of unique stock_symbol: 8553\n",
      "Unique stock_symbol values: ['A' 'AA' 'AAAU' ... 'XVZ' 'YGRO' 'YPRO']\n",
      "\n",
      "Rows per stock_symbol:\n",
      "Stock_symbol\n",
      "         9804627\n",
      "GILD       12376\n",
      "NVDA       11862\n",
      "QQQ        11813\n",
      "BABA       11625\n",
      "          ...   \n",
      "VRAI           1\n",
      "ROIQW          1\n",
      "I              1\n",
      "ROIQU          1\n",
      "HOTRW          1\n",
      "Name: count, Length: 8553, dtype: int64\n",
      "News count for each NASDAQ stock saved to nasdaq_counts.txt\n",
      "\n",
      "Rows per stock_symbol:\n",
      "Stock_symbol\n",
      "         9804627\n",
      "GILD       12376\n",
      "NVDA       11862\n",
      "QQQ        11813\n",
      "BABA       11625\n",
      "          ...   \n",
      "VRAI           1\n",
      "ROIQW          1\n",
      "I              1\n",
      "ROIQU          1\n",
      "HOTRW          1\n",
      "Name: count, Length: 8553, dtype: int64\n",
      "News count for each NASDAQ stock saved to nasdaq_counts.txt\n"
     ]
    }
   ],
   "source": [
    "# Check unique values in 'stock_symbol' and count rows for each value\n",
    "import pandas as pd\n",
    "\n",
    "# Convert to DataFrame if not already\n",
    "if isinstance(ds, dict) and 'train' in ds:\n",
    "    df = ds['train'].to_pandas()\n",
    "else:\n",
    "    df = ds.to_pandas()\n",
    "\n",
    "unique_symbols = df['Stock_symbol'].unique()\n",
    "print(f\"Number of unique stock_symbol: {len(unique_symbols)}\")\n",
    "print(f\"Unique stock_symbol values: {unique_symbols}\")\n",
    "\n",
    "symbol_counts = df['Stock_symbol'].value_counts()\n",
    "print(\"\\nRows per stock_symbol:\")\n",
    "print(symbol_counts)\n",
    "\n",
    "#save to a text file\n",
    "symbol_counts.to_csv('FNSPID_nasdaq_counts.txt', sep='\\t', header=True)\n",
    "print('News count for each NASDAQ stock saved to nasdaq_counts.txt')"
   ]
  },
  {
   "cell_type": "code",
   "execution_count": 4,
   "id": "b3606a00",
   "metadata": {},
   "outputs": [
    {
     "name": "stdout",
     "output_type": "stream",
     "text": [
      "\n",
      "Number of stocks in NASDAQ list: 102\n"
     ]
    }
   ],
   "source": [
    "stocks_in_nasdaq = ['AAPL', 'ABNB', 'ADBE', 'ADI', 'ADP', 'ADSK', \n",
    "                    'AEP', 'AMAT', 'AMD', 'AMGN', 'AMZN', 'APP',\n",
    "                    'ARM', 'ASML', 'AVGO', 'AXON', 'AZN', 'BIIB',\n",
    "                    'BKNG', 'BKR', 'CCEP', 'CDNS', 'CDW', 'CEG',\n",
    "                    'CHTR', 'CMCSA', 'COST', 'CPRT', 'CRWD', 'CSCO',\n",
    "                    'CSGP', 'CSX', 'CTAS', 'CTSH', 'DASH', 'DDOG',\n",
    "                    'DXCM', 'EA', 'EXC', 'FANG', 'FAST', 'FTNT',\n",
    "                    'GEHC', 'GFS', 'GILD', 'GOOG', 'GOOGL', 'HON',\n",
    "                    'IDXX', 'INTC', 'INTU', 'ISRG', 'KDP', 'KHC',\n",
    "                    'KLAC', 'LIN', 'LRCX', 'LULU', 'MAR', 'MCHP', \n",
    "                    'MDLZ', 'MELI', 'META', 'MNST', 'MRVL', 'MSFT',\n",
    "                    'MSTR', 'MU', 'NFLX', 'NVDA', 'NXPI', 'ODFL',\n",
    "                    'ON', 'ORLY', 'PANW', 'PAYX', 'PCAR', 'PDD',\n",
    "                    'PEP', 'PLTR', 'PYPL', 'QCOM', 'REGN', 'ROP',\n",
    "                    'ROST', 'SBUX', 'SHOP', 'SNPS', 'TEAM', 'TMUS',\n",
    "                    'TRI', 'TSLA', 'TTD', 'TTWO', 'TXN', 'VRSK',\n",
    "                    'VRTX', 'WBD', 'WDAY', 'XEL', 'ZS','FB']\n",
    "\n",
    "print(f\"\\nNumber of stocks in NASDAQ list: {len(stocks_in_nasdaq)}\")"
   ]
  },
  {
   "cell_type": "code",
   "execution_count": 5,
   "id": "4f787600",
   "metadata": {},
   "outputs": [
    {
     "name": "stdout",
     "output_type": "stream",
     "text": [
      "News count for each NASDAQ stock:\n",
      "Stock_symbol\n",
      "AAPL    9338\n",
      "ABNB       0\n",
      "ADBE    6570\n",
      "ADI     4307\n",
      "ADP     2967\n",
      "        ... \n",
      "WBD        0\n",
      "WDAY    3836\n",
      "XEL     2240\n",
      "ZS      1365\n",
      "FB       433\n",
      "Name: count, Length: 102, dtype: int64\n"
     ]
    }
   ],
   "source": [
    "# Count number of news for each stock in the NASDAQ list\n",
    "nasdaq_counts = df[df['Stock_symbol'].isin(stocks_in_nasdaq)]['Stock_symbol'].value_counts().reindex(stocks_in_nasdaq, fill_value=0)\n",
    "print(\"News count for each NASDAQ stock:\")\n",
    "print(nasdaq_counts)\n",
    "\n"
   ]
  },
  {
   "cell_type": "code",
   "execution_count": 6,
   "id": "284f8031",
   "metadata": {},
   "outputs": [
    {
     "name": "stdout",
     "output_type": "stream",
     "text": [
      "nasdaq_counts saved to nasdaq_counts.txt\n"
     ]
    }
   ],
   "source": [
    "# Save nasdaq_counts to a txt file\n",
    "nasdaq_counts.to_csv('FNSPID_nasdaq_nasdaq_counts.txt', sep='\\t', header=True)\n",
    "print('nasdaq_counts saved to nasdaq_counts.txt')"
   ]
  },
  {
   "cell_type": "code",
   "execution_count": 7,
   "id": "ea20cfa5",
   "metadata": {},
   "outputs": [
    {
     "name": "stdout",
     "output_type": "stream",
     "text": [
      "ABNB\n",
      "ARM\n",
      "AXON\n",
      "CEG\n",
      "DASH\n",
      "GEHC\n",
      "GFS\n",
      "HON\n",
      "ISRG\n",
      "KDP\n",
      "META\n",
      "PLTR\n",
      "TTD\n",
      "WBD\n"
     ]
    }
   ],
   "source": [
    "# print the stock symbols that have 0 news articles\n",
    "zero_news_stocks = nasdaq_counts[nasdaq_counts == 0].index.tolist()\n",
    "for stock in zero_news_stocks:\n",
    "    print(f\"{stock}\")"
   ]
  },
  {
   "cell_type": "code",
   "execution_count": 8,
   "id": "5333f4e5",
   "metadata": {},
   "outputs": [
    {
     "name": "stdout",
     "output_type": "stream",
     "text": [
      "\n",
      "Date range of the dataset: 1914-09-16 to 2024-01-09\n"
     ]
    }
   ],
   "source": [
    "# Find the date range of the dataset\n",
    "df['Date'] = pd.to_datetime(df['Date'])\n",
    "min_date = df['Date'].min()\n",
    "max_date = df['Date'].max()\n",
    "print(f\"\\nDate range of the dataset: {min_date.date()} to {max_date.date()}\")"
   ]
  },
  {
   "cell_type": "code",
   "execution_count": 9,
   "id": "a2aa2753",
   "metadata": {},
   "outputs": [
    {
     "name": "stdout",
     "output_type": "stream",
     "text": [
      "Number of news articles from 2015 to 2023: 5971447\n"
     ]
    }
   ],
   "source": [
    "# Count number of news articles within 2015-2023\n",
    "df['Date'] = pd.to_datetime(df['Date'], utc=True)\n",
    "start_date = pd.to_datetime('2015-01-01', utc=True)\n",
    "end_date = pd.to_datetime('2023-12-31', utc=True)\n",
    "mask = (df['Date'] >= start_date) & (df['Date'] <= end_date)\n",
    "news_2015_2023 = df[mask]\n",
    "print(f\"Number of news articles from 2015 to 2023: {len(news_2015_2023)}\")"
   ]
  },
  {
   "cell_type": "code",
   "execution_count": 10,
   "id": "e96be1cb",
   "metadata": {},
   "outputs": [
    {
     "name": "stdout",
     "output_type": "stream",
     "text": [
      "Unique data sources and their counts:\n",
      "source_domain\n",
      "www.reuters.com            8556310\n",
      "www.nasdaq.com             2491785\n",
      "www.benzinga.com           1529287\n",
      "seekingalpha.com            897219\n",
      "lenta.ru                    800975\n",
      "www.bloomberg.com           446578\n",
      "www.zacks.com               429559\n",
      "www.gurufocus.com           193664\n",
      "news.investors.com           67555\n",
      "www.investors.com            62721\n",
      "www.tradershuddle.com        16476\n",
      "www.thestreet.com            15953\n",
      "www.vetr.com                 10827\n",
      "talkmarkets.com              10685\n",
      "www.smallcapnetwork.com       8059\n",
      "www.moneyshow.com             4113\n",
      "marketfy.com                  3413\n",
      "www.foxbusiness.com           2760\n",
      "                               764\n",
      "money.msn.com                  586\n",
      "www.foxnews.com                 10\n",
      "Name: count, dtype: int64\n",
      "News source counts saved to FNSPID_nasdaq_news_sources.txt\n",
      "News source counts saved to FNSPID_nasdaq_news_sources.txt\n"
     ]
    }
   ],
   "source": [
    "# Find unique data sources in the 'Url' column\n",
    "from urllib.parse import urlparse\n",
    "\n",
    "# Extract domain from each URL\n",
    "df['source_domain'] = df['Url'].apply(lambda x: urlparse(x).netloc if pd.notnull(x) else None)\n",
    "\n",
    "# Get unique sources and their counts\n",
    "source_counts = df['source_domain'].value_counts()\n",
    "print(\"Unique data sources and their counts:\")\n",
    "print(source_counts)\n",
    "\n",
    "# Optionally, save to a txt file\n",
    "source_counts.to_csv('FNSPID_nasdaq_news_sources.txt', sep='\\t', header=True)\n",
    "print('News source counts saved to FNSPID_nasdaq_news_sources.txt')"
   ]
  },
  {
   "cell_type": "code",
   "execution_count": null,
   "id": "e246ddab",
   "metadata": {},
   "outputs": [],
   "source": []
  }
 ],
 "metadata": {
  "kernelspec": {
   "display_name": ".aistfyp",
   "language": "python",
   "name": "python3"
  },
  "language_info": {
   "codemirror_mode": {
    "name": "ipython",
    "version": 3
   },
   "file_extension": ".py",
   "mimetype": "text/x-python",
   "name": "python",
   "nbconvert_exporter": "python",
   "pygments_lexer": "ipython3",
   "version": "3.13.5"
  }
 },
 "nbformat": 4,
 "nbformat_minor": 5
}
